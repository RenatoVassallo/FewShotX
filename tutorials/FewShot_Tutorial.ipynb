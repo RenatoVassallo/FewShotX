{
 "cells": [
  {
   "cell_type": "markdown",
   "id": "f8bf47b6",
   "metadata": {},
   "source": [
    "# FewShot Tutorial\n",
    "\n",
    "This notebook demonstrates the use of the `FewShotX` package, available for download [here](https://github.com/RenatoVassallo/FewShotX).\n",
    "\n",
    "## Classifying Pets and Code-Related Texts\n",
    "\n",
    "In this tutorial, we will use the `FewShotLearner` class to classify texts into categories such as pets or code-related content. The workflow includes the following steps:\n",
    "\n",
    "1. **Model Initialization:**  \n",
    "   - Instantiate the `FewShotLearner` class with the support set (examples and observed labels) and the chosen encoder.\n",
    "\n",
    "2. **Training the Model:**  \n",
    "   - The `.fit()` method consists of two stages:  \n",
    "     - **Data Preparation:** Splits the support set into training and validation subsets.  \n",
    "     - **Model Training:** A linear model with L2 regularization and Bayesian MSE loss is applied. Key hyperparameters include `lambda`, `learning rate`, and `early stopping` to prevent overfitting.\n",
    "\n",
    "     $$\\mathbf{W}^* = \\arg \\min_{\\mathbf{W}} \\left( \\| \\mathbf{X}^\\top \\mathbf{W} - \\mathbf{Y} \\|^2 + \\lambda \\| \\mathbf{W} - \\mathbb{I} \\|^2 \\right) $$\n",
    "\n",
    "3. **Prediction:**  \n",
    "   - Predict categories by computing the interaction between the query set embeddings and the learned mapping matrix ($W^* $)."
   ]
  },
  {
   "cell_type": "code",
   "execution_count": 1,
   "id": "4a24cf2c",
   "metadata": {},
   "outputs": [
    {
     "data": {
      "text/html": [
       "<div>\n",
       "<style scoped>\n",
       "    .dataframe tbody tr th:only-of-type {\n",
       "        vertical-align: middle;\n",
       "    }\n",
       "\n",
       "    .dataframe tbody tr th {\n",
       "        vertical-align: top;\n",
       "    }\n",
       "\n",
       "    .dataframe thead th {\n",
       "        text-align: right;\n",
       "    }\n",
       "</style>\n",
       "<table border=\"1\" class=\"dataframe\">\n",
       "  <thead>\n",
       "    <tr style=\"text-align: right;\">\n",
       "      <th></th>\n",
       "      <th>text</th>\n",
       "      <th>label</th>\n",
       "    </tr>\n",
       "  </thead>\n",
       "  <tbody>\n",
       "    <tr>\n",
       "      <th>0</th>\n",
       "      <td>Cats are cute</td>\n",
       "      <td>Pets</td>\n",
       "    </tr>\n",
       "    <tr>\n",
       "      <th>1</th>\n",
       "      <td>Dogs are loyal</td>\n",
       "      <td>Pets</td>\n",
       "    </tr>\n",
       "    <tr>\n",
       "      <th>2</th>\n",
       "      <td>Birds are awesome</td>\n",
       "      <td>Pets</td>\n",
       "    </tr>\n",
       "    <tr>\n",
       "      <th>3</th>\n",
       "      <td>I love programming</td>\n",
       "      <td>Code</td>\n",
       "    </tr>\n",
       "    <tr>\n",
       "      <th>4</th>\n",
       "      <td>I like coding</td>\n",
       "      <td>Code</td>\n",
       "    </tr>\n",
       "    <tr>\n",
       "      <th>5</th>\n",
       "      <td>I am data scientist</td>\n",
       "      <td>Code</td>\n",
       "    </tr>\n",
       "  </tbody>\n",
       "</table>\n",
       "</div>"
      ],
      "text/plain": [
       "                  text label\n",
       "0        Cats are cute  Pets\n",
       "1       Dogs are loyal  Pets\n",
       "2    Birds are awesome  Pets\n",
       "3   I love programming  Code\n",
       "4        I like coding  Code\n",
       "5  I am data scientist  Code"
      ]
     },
     "execution_count": 1,
     "metadata": {},
     "output_type": "execute_result"
    }
   ],
   "source": [
    "import pandas as pd\n",
    "\n",
    "# Creating a Toy Dataset\n",
    "support_data = {\n",
    "    'text': ['Cats are cute', 'Dogs are loyal', 'Birds are awesome',\n",
    "             'I love programming', 'I like coding', 'I am data scientist'],\n",
    "    'label': ['Pets', 'Pets', 'Pets',\n",
    "              'Code', 'Code', 'Code']\n",
    "}\n",
    "support_set = pd.DataFrame(support_data)\n",
    "support_set"
   ]
  },
  {
   "cell_type": "markdown",
   "id": "a0e437d8",
   "metadata": {},
   "source": [
    "## 1. Step-by-step method"
   ]
  },
  {
   "cell_type": "code",
   "execution_count": 2,
   "id": "4894501c",
   "metadata": {},
   "outputs": [],
   "source": [
    "from FewShotX import Embeddings, FewShotLearner\n",
    "\n",
    "# Instantiate the Embeddings class\n",
    "embedding_model = Embeddings(model_name='all-MiniLM-L6-v2')\n",
    "\n",
    "# Instantiate the FewShotLearner class\n",
    "learner = FewShotLearner(support_set, text_col='text', label_col='label', embedding_model=embedding_model)"
   ]
  },
  {
   "cell_type": "code",
   "execution_count": 3,
   "id": "fe75e49a",
   "metadata": {},
   "outputs": [
    {
     "data": {
      "application/vnd.jupyter.widget-view+json": {
       "model_id": "b11d6d47223247a59dcd18850b72888d",
       "version_major": 2,
       "version_minor": 0
      },
      "text/plain": [
       "Batches:   0%|          | 0/1 [00:00<?, ?it/s]"
      ]
     },
     "metadata": {},
     "output_type": "display_data"
    },
    {
     "data": {
      "application/vnd.jupyter.widget-view+json": {
       "model_id": "ef95b9d251ce4186a34578610b7261d5",
       "version_major": 2,
       "version_minor": 0
      },
      "text/plain": [
       "Batches:   0%|          | 0/1 [00:00<?, ?it/s]"
      ]
     },
     "metadata": {},
     "output_type": "display_data"
    },
    {
     "name": "stdout",
     "output_type": "stream",
     "text": [
      "X_train shape: torch.Size([4, 384])\n",
      "y_train shape: torch.Size([4, 384])\n"
     ]
    }
   ],
   "source": [
    "# Prepare the training data using the _prepare_training_data method\n",
    "(X_train, y_train), (X_val, y_val), input_dim, output_dim = learner._prepare_training_data(val_split=0.2)\n",
    "print(\"X_train shape:\", X_train.shape)\n",
    "print(\"y_train shape:\", y_train.shape)"
   ]
  },
  {
   "cell_type": "markdown",
   "id": "5abfe0a1",
   "metadata": {},
   "source": [
    "+ The shape of `X_tensor` is: 4 samples × 384-dimensional embeddings → (4, 384).\n",
    "+ The labels \"Pets\" and \"Code\" are also embedded using the same model.\n",
    "+ This 2 unique embeddings are then mapped to its respective example, resulting in a `y_tensor` of shape (4, 384)."
   ]
  },
  {
   "cell_type": "code",
   "execution_count": 4,
   "id": "2a4d9263",
   "metadata": {},
   "outputs": [
    {
     "name": "stdout",
     "output_type": "stream",
     "text": [
      "Epoch 1/20 - Training Loss: 0.0276 - Validation Loss: 0.4302\n",
      "Epoch 2/20 - Training Loss: 1.1491 - Validation Loss: 0.0895\n",
      "Epoch 3/20 - Training Loss: 0.1122 - Validation Loss: 0.1326\n",
      "Epoch 4/20 - Training Loss: 0.2852 - Validation Loss: 0.2582\n",
      "Epoch 5/20 - Training Loss: 0.6347 - Validation Loss: 0.2057\n",
      "Epoch 6/20 - Training Loss: 0.4643 - Validation Loss: 0.0893\n",
      "Epoch 7/20 - Training Loss: 0.1510 - Validation Loss: 0.0361\n",
      "Epoch 8/20 - Training Loss: 0.0440 - Validation Loss: 0.0645\n",
      "Epoch 9/20 - Training Loss: 0.1586 - Validation Loss: 0.1089\n",
      "Epoch 10/20 - Training Loss: 0.2799 - Validation Loss: 0.1115\n",
      "Epoch 11/20 - Training Loss: 0.2609 - Validation Loss: 0.0754\n",
      "Epoch 12/20 - Training Loss: 0.1477 - Validation Loss: 0.0366\n",
      "Early stopping at epoch 12\n"
     ]
    }
   ],
   "source": [
    "# We train the model using a validation set and early stopping to prevent overfitting\n",
    "learner._train_model((X_train, y_train), (X_val, y_val), input_dim, output_dim, lam=0.1, lr=0.1, \n",
    "                     epochs=20, early_stop=5, verbose=True)"
   ]
  },
  {
   "cell_type": "markdown",
   "id": "87f0b8a8",
   "metadata": {},
   "source": [
    "If the validation loss does **not improve** for 5 consecutive epochs, the training process is `stopped early`."
   ]
  },
  {
   "cell_type": "code",
   "execution_count": 5,
   "id": "d690ba8a",
   "metadata": {},
   "outputs": [
    {
     "data": {
      "text/html": [
       "<div>\n",
       "<style scoped>\n",
       "    .dataframe tbody tr th:only-of-type {\n",
       "        vertical-align: middle;\n",
       "    }\n",
       "\n",
       "    .dataframe tbody tr th {\n",
       "        vertical-align: top;\n",
       "    }\n",
       "\n",
       "    .dataframe thead th {\n",
       "        text-align: right;\n",
       "    }\n",
       "</style>\n",
       "<table border=\"1\" class=\"dataframe\">\n",
       "  <thead>\n",
       "    <tr style=\"text-align: right;\">\n",
       "      <th></th>\n",
       "      <th>text</th>\n",
       "      <th>label</th>\n",
       "    </tr>\n",
       "  </thead>\n",
       "  <tbody>\n",
       "    <tr>\n",
       "      <th>0</th>\n",
       "      <td>Parrots can talk and mimic sounds</td>\n",
       "      <td>Pets</td>\n",
       "    </tr>\n",
       "    <tr>\n",
       "      <th>1</th>\n",
       "      <td>Developing machine learning models is fascinating</td>\n",
       "      <td>Code</td>\n",
       "    </tr>\n",
       "  </tbody>\n",
       "</table>\n",
       "</div>"
      ],
      "text/plain": [
       "                                                text label\n",
       "0                  Parrots can talk and mimic sounds  Pets\n",
       "1  Developing machine learning models is fascinating  Code"
      ]
     },
     "execution_count": 5,
     "metadata": {},
     "output_type": "execute_result"
    }
   ],
   "source": [
    "query_data = {\n",
    "    'text': ['Parrots can talk and mimic sounds',\n",
    "             'Developing machine learning models is fascinating'],\n",
    "    'label': ['Pets', 'Code']\n",
    "}\n",
    "query_set = pd.DataFrame(query_data)\n",
    "query_set"
   ]
  },
  {
   "cell_type": "code",
   "execution_count": 6,
   "id": "b7c4e1f8",
   "metadata": {},
   "outputs": [
    {
     "data": {
      "application/vnd.jupyter.widget-view+json": {
       "model_id": "c6b6541e68374f78874d1efa37c51ae6",
       "version_major": 2,
       "version_minor": 0
      },
      "text/plain": [
       "Batches:   0%|          | 0/1 [00:00<?, ?it/s]"
      ]
     },
     "metadata": {},
     "output_type": "display_data"
    },
    {
     "name": "stdout",
     "output_type": "stream",
     "text": [
      "Accuracy:  1.0\n"
     ]
    },
    {
     "data": {
      "text/html": [
       "<div>\n",
       "<style scoped>\n",
       "    .dataframe tbody tr th:only-of-type {\n",
       "        vertical-align: middle;\n",
       "    }\n",
       "\n",
       "    .dataframe tbody tr th {\n",
       "        vertical-align: top;\n",
       "    }\n",
       "\n",
       "    .dataframe thead th {\n",
       "        text-align: right;\n",
       "    }\n",
       "</style>\n",
       "<table border=\"1\" class=\"dataframe\">\n",
       "  <thead>\n",
       "    <tr style=\"text-align: right;\">\n",
       "      <th></th>\n",
       "      <th>text</th>\n",
       "      <th>label</th>\n",
       "      <th>pred</th>\n",
       "      <th>pred_label</th>\n",
       "      <th>true_label_idx</th>\n",
       "    </tr>\n",
       "  </thead>\n",
       "  <tbody>\n",
       "    <tr>\n",
       "      <th>0</th>\n",
       "      <td>Parrots can talk and mimic sounds</td>\n",
       "      <td>Pets</td>\n",
       "      <td>0</td>\n",
       "      <td>Pets</td>\n",
       "      <td>0</td>\n",
       "    </tr>\n",
       "    <tr>\n",
       "      <th>1</th>\n",
       "      <td>Developing machine learning models is fascinating</td>\n",
       "      <td>Code</td>\n",
       "      <td>1</td>\n",
       "      <td>Code</td>\n",
       "      <td>1</td>\n",
       "    </tr>\n",
       "  </tbody>\n",
       "</table>\n",
       "</div>"
      ],
      "text/plain": [
       "                                                text label  pred pred_label  \\\n",
       "0                  Parrots can talk and mimic sounds  Pets     0       Pets   \n",
       "1  Developing machine learning models is fascinating  Code     1       Code   \n",
       "\n",
       "   true_label_idx  \n",
       "0               0  \n",
       "1               1  "
      ]
     },
     "execution_count": 6,
     "metadata": {},
     "output_type": "execute_result"
    }
   ],
   "source": [
    "# Compute predictions\n",
    "predictions, acc = learner.predict(query_set, k=3, return_accuracy=True)\n",
    "print(\"Accuracy: \", acc)\n",
    "predictions"
   ]
  },
  {
   "cell_type": "markdown",
   "id": "61fa6595",
   "metadata": {},
   "source": [
    "## 2. Direct method"
   ]
  },
  {
   "cell_type": "code",
   "execution_count": 7,
   "id": "e4a0cd27",
   "metadata": {},
   "outputs": [
    {
     "data": {
      "application/vnd.jupyter.widget-view+json": {
       "model_id": "0afb493e7cf64f3481ca87cf38381b75",
       "version_major": 2,
       "version_minor": 0
      },
      "text/plain": [
       "Batches:   0%|          | 0/1 [00:00<?, ?it/s]"
      ]
     },
     "metadata": {},
     "output_type": "display_data"
    },
    {
     "data": {
      "application/vnd.jupyter.widget-view+json": {
       "model_id": "7e6f52fd93e94687b2f816148035cb2a",
       "version_major": 2,
       "version_minor": 0
      },
      "text/plain": [
       "Batches:   0%|          | 0/1 [00:00<?, ?it/s]"
      ]
     },
     "metadata": {},
     "output_type": "display_data"
    },
    {
     "name": "stdout",
     "output_type": "stream",
     "text": [
      "Epoch 1/20 - Training Loss: 0.0276 - Validation Loss: 0.4302\n",
      "Epoch 2/20 - Training Loss: 1.1491 - Validation Loss: 0.0895\n",
      "Epoch 3/20 - Training Loss: 0.1122 - Validation Loss: 0.1326\n",
      "Epoch 4/20 - Training Loss: 0.2852 - Validation Loss: 0.2582\n",
      "Epoch 5/20 - Training Loss: 0.6347 - Validation Loss: 0.2057\n",
      "Epoch 6/20 - Training Loss: 0.4643 - Validation Loss: 0.0893\n",
      "Epoch 7/20 - Training Loss: 0.1510 - Validation Loss: 0.0361\n",
      "Epoch 8/20 - Training Loss: 0.0440 - Validation Loss: 0.0645\n",
      "Epoch 9/20 - Training Loss: 0.1586 - Validation Loss: 0.1089\n",
      "Epoch 10/20 - Training Loss: 0.2799 - Validation Loss: 0.1115\n",
      "Epoch 11/20 - Training Loss: 0.2609 - Validation Loss: 0.0754\n",
      "Epoch 12/20 - Training Loss: 0.1477 - Validation Loss: 0.0366\n",
      "Early stopping at epoch 12\n"
     ]
    }
   ],
   "source": [
    "from FewShotX import Embeddings, FewShotLearner\n",
    "\n",
    "# Instantiate the Embeddings class\n",
    "embedding_model = Embeddings(model_name='all-MiniLM-L6-v2')\n",
    "\n",
    "# Train our learner with the support set\n",
    "learner = FewShotLearner(support_set, text_col='text', label_col='label', embedding_model=embedding_model)\n",
    "learner.fit(val_split=0.2, lam=0.1, lr=0.1, epochs=20, early_stop=5, verbose=True)"
   ]
  },
  {
   "cell_type": "code",
   "execution_count": 8,
   "id": "7f3ace4e",
   "metadata": {},
   "outputs": [
    {
     "data": {
      "application/vnd.jupyter.widget-view+json": {
       "model_id": "b1e00ceeda3e456a8c480fd072aa6d98",
       "version_major": 2,
       "version_minor": 0
      },
      "text/plain": [
       "Batches:   0%|          | 0/1 [00:00<?, ?it/s]"
      ]
     },
     "metadata": {},
     "output_type": "display_data"
    },
    {
     "data": {
      "text/html": [
       "<div>\n",
       "<style scoped>\n",
       "    .dataframe tbody tr th:only-of-type {\n",
       "        vertical-align: middle;\n",
       "    }\n",
       "\n",
       "    .dataframe tbody tr th {\n",
       "        vertical-align: top;\n",
       "    }\n",
       "\n",
       "    .dataframe thead th {\n",
       "        text-align: right;\n",
       "    }\n",
       "</style>\n",
       "<table border=\"1\" class=\"dataframe\">\n",
       "  <thead>\n",
       "    <tr style=\"text-align: right;\">\n",
       "      <th></th>\n",
       "      <th>text</th>\n",
       "      <th>label</th>\n",
       "      <th>pred</th>\n",
       "      <th>pred_label</th>\n",
       "      <th>true_label_idx</th>\n",
       "    </tr>\n",
       "  </thead>\n",
       "  <tbody>\n",
       "    <tr>\n",
       "      <th>0</th>\n",
       "      <td>Parrots can talk and mimic sounds</td>\n",
       "      <td>Pets</td>\n",
       "      <td>0</td>\n",
       "      <td>Pets</td>\n",
       "      <td>0</td>\n",
       "    </tr>\n",
       "    <tr>\n",
       "      <th>1</th>\n",
       "      <td>Developing machine learning models is fascinating</td>\n",
       "      <td>Code</td>\n",
       "      <td>1</td>\n",
       "      <td>Code</td>\n",
       "      <td>1</td>\n",
       "    </tr>\n",
       "  </tbody>\n",
       "</table>\n",
       "</div>"
      ],
      "text/plain": [
       "                                                text label  pred pred_label  \\\n",
       "0                  Parrots can talk and mimic sounds  Pets     0       Pets   \n",
       "1  Developing machine learning models is fascinating  Code     1       Code   \n",
       "\n",
       "   true_label_idx  \n",
       "0               0  \n",
       "1               1  "
      ]
     },
     "execution_count": 8,
     "metadata": {},
     "output_type": "execute_result"
    }
   ],
   "source": [
    "# Compute predictions\n",
    "predictions, acc = learner.predict(query_set, k=3, return_accuracy=True)\n",
    "predictions"
   ]
  }
 ],
 "metadata": {
  "kernelspec": {
   "display_name": ".venv",
   "language": "python",
   "name": "python3"
  },
  "language_info": {
   "codemirror_mode": {
    "name": "ipython",
    "version": 3
   },
   "file_extension": ".py",
   "mimetype": "text/x-python",
   "name": "python",
   "nbconvert_exporter": "python",
   "pygments_lexer": "ipython3",
   "version": "3.11.11"
  }
 },
 "nbformat": 4,
 "nbformat_minor": 5
}
