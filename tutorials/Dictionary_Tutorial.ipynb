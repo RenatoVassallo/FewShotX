{
 "cells": [
  {
   "cell_type": "markdown",
   "id": "f2928379",
   "metadata": {},
   "source": [
    "# Dictionary Tutorial\n",
    "\n",
    "This notebook demonstrates the use of the `FewShotX` package, available for download [here](https://github.com/RenatoVassallo/FewShotX).\n",
    "\n",
    "We’ll use a simple dictionary to count words, leveraging spaCy’s `en_core_web_sm` model for tokenization and stop word filtering."
   ]
  },
  {
   "cell_type": "code",
   "execution_count": 1,
   "id": "a6d160ef",
   "metadata": {},
   "outputs": [
    {
     "data": {
      "text/html": [
       "<div>\n",
       "<style scoped>\n",
       "    .dataframe tbody tr th:only-of-type {\n",
       "        vertical-align: middle;\n",
       "    }\n",
       "\n",
       "    .dataframe tbody tr th {\n",
       "        vertical-align: top;\n",
       "    }\n",
       "\n",
       "    .dataframe thead th {\n",
       "        text-align: right;\n",
       "    }\n",
       "</style>\n",
       "<table border=\"1\" class=\"dataframe\">\n",
       "  <thead>\n",
       "    <tr style=\"text-align: right;\">\n",
       "      <th></th>\n",
       "      <th>headline</th>\n",
       "      <th>is_financial</th>\n",
       "    </tr>\n",
       "  </thead>\n",
       "  <tbody>\n",
       "    <tr>\n",
       "      <th>0</th>\n",
       "      <td>The central bank signaled a pause in interest ...</td>\n",
       "      <td>1</td>\n",
       "    </tr>\n",
       "    <tr>\n",
       "      <th>1</th>\n",
       "      <td>Investors show growing confidence in emerging ...</td>\n",
       "      <td>1</td>\n",
       "    </tr>\n",
       "    <tr>\n",
       "      <th>2</th>\n",
       "      <td>City Council Debates Infrastructure Plan</td>\n",
       "      <td>0</td>\n",
       "    </tr>\n",
       "    <tr>\n",
       "      <th>3</th>\n",
       "      <td>Investment in Tech Sector Slows Amid Global Un...</td>\n",
       "      <td>1</td>\n",
       "    </tr>\n",
       "    <tr>\n",
       "      <th>4</th>\n",
       "      <td>New coach implements strict budgeting for play...</td>\n",
       "      <td>0</td>\n",
       "    </tr>\n",
       "  </tbody>\n",
       "</table>\n",
       "</div>"
      ],
      "text/plain": [
       "                                            headline  is_financial\n",
       "0  The central bank signaled a pause in interest ...             1\n",
       "1  Investors show growing confidence in emerging ...             1\n",
       "2           City Council Debates Infrastructure Plan             0\n",
       "3  Investment in Tech Sector Slows Amid Global Un...             1\n",
       "4  New coach implements strict budgeting for play...             0"
      ]
     },
     "execution_count": 1,
     "metadata": {},
     "output_type": "execute_result"
    }
   ],
   "source": [
    "import pandas as pd\n",
    "\n",
    "url = \"https://github.com/RenatoVassallo/FewShotX/raw/main/src/FewShotX/datasets/econland_corpus.csv\"\n",
    "\n",
    "# Read the CSV directly from the raw link\n",
    "df_corpus = pd.read_csv(url).sample(100, random_state=42)\n",
    "df_corpus = df_corpus[[\"headline\", \"is_financial\"]].reset_index(drop=True)\n",
    "df_corpus.head()"
   ]
  },
  {
   "cell_type": "code",
   "execution_count": 2,
   "id": "8f036385",
   "metadata": {},
   "outputs": [
    {
     "name": "stderr",
     "output_type": "stream",
     "text": [
      "Dictionary scoring with spaCy: 100%|██████████| 100/100 [00:00<00:00, 1002.82it/s]\n"
     ]
    },
    {
     "data": {
      "text/html": [
       "<div>\n",
       "<style scoped>\n",
       "    .dataframe tbody tr th:only-of-type {\n",
       "        vertical-align: middle;\n",
       "    }\n",
       "\n",
       "    .dataframe tbody tr th {\n",
       "        vertical-align: top;\n",
       "    }\n",
       "\n",
       "    .dataframe thead th {\n",
       "        text-align: right;\n",
       "    }\n",
       "</style>\n",
       "<table border=\"1\" class=\"dataframe\">\n",
       "  <thead>\n",
       "    <tr style=\"text-align: right;\">\n",
       "      <th></th>\n",
       "      <th>headline</th>\n",
       "      <th>is_financial</th>\n",
       "      <th>economy</th>\n",
       "      <th>preprocessed_headline</th>\n",
       "    </tr>\n",
       "  </thead>\n",
       "  <tbody>\n",
       "    <tr>\n",
       "      <th>0</th>\n",
       "      <td>The central bank signaled a pause in interest ...</td>\n",
       "      <td>1</td>\n",
       "      <td>0</td>\n",
       "      <td>[central, bank, signaled, pause, interest, rat...</td>\n",
       "    </tr>\n",
       "    <tr>\n",
       "      <th>1</th>\n",
       "      <td>Investors show growing confidence in emerging ...</td>\n",
       "      <td>1</td>\n",
       "      <td>1</td>\n",
       "      <td>[investors, growing, confidence, emerging, mar...</td>\n",
       "    </tr>\n",
       "    <tr>\n",
       "      <th>2</th>\n",
       "      <td>City Council Debates Infrastructure Plan</td>\n",
       "      <td>0</td>\n",
       "      <td>0</td>\n",
       "      <td>[city, council, debates, infrastructure, plan]</td>\n",
       "    </tr>\n",
       "    <tr>\n",
       "      <th>3</th>\n",
       "      <td>Investment in Tech Sector Slows Amid Global Un...</td>\n",
       "      <td>1</td>\n",
       "      <td>1</td>\n",
       "      <td>[investment, tech, sector, slows, amid, global...</td>\n",
       "    </tr>\n",
       "    <tr>\n",
       "      <th>4</th>\n",
       "      <td>New coach implements strict budgeting for play...</td>\n",
       "      <td>0</td>\n",
       "      <td>0</td>\n",
       "      <td>[new, coach, implements, strict, budgeting, pl...</td>\n",
       "    </tr>\n",
       "  </tbody>\n",
       "</table>\n",
       "</div>"
      ],
      "text/plain": [
       "                                            headline  is_financial  economy  \\\n",
       "0  The central bank signaled a pause in interest ...             1        0   \n",
       "1  Investors show growing confidence in emerging ...             1        1   \n",
       "2           City Council Debates Infrastructure Plan             0        0   \n",
       "3  Investment in Tech Sector Slows Amid Global Un...             1        1   \n",
       "4  New coach implements strict budgeting for play...             0        0   \n",
       "\n",
       "                               preprocessed_headline  \n",
       "0  [central, bank, signaled, pause, interest, rat...  \n",
       "1  [investors, growing, confidence, emerging, mar...  \n",
       "2     [city, council, debates, infrastructure, plan]  \n",
       "3  [investment, tech, sector, slows, amid, global...  \n",
       "4  [new, coach, implements, strict, budgeting, pl...  "
      ]
     },
     "execution_count": 2,
     "metadata": {},
     "output_type": "execute_result"
    }
   ],
   "source": [
    "from FewShotX import DictionaryScorer\n",
    "\n",
    "# Create a simple economic dictionary\n",
    "dictionary = {\"economy\": [\"economy\", \"consumption\", \"inflation\", \"investment\", \"invest\", \"confidence\"]}\n",
    "\n",
    "# Apply our scorer to the corpus\n",
    "scorer = DictionaryScorer(dictionaries=dictionary, model_name=\"en_core_web_sm\")\n",
    "df_dict = scorer.score_df(df_corpus, text_col=\"headline\")\n",
    "df_dict.head()"
   ]
  }
 ],
 "metadata": {
  "kernelspec": {
   "display_name": ".venv",
   "language": "python",
   "name": "python3"
  },
  "language_info": {
   "codemirror_mode": {
    "name": "ipython",
    "version": 3
   },
   "file_extension": ".py",
   "mimetype": "text/x-python",
   "name": "python",
   "nbconvert_exporter": "python",
   "pygments_lexer": "ipython3",
   "version": "3.11.11"
  }
 },
 "nbformat": 4,
 "nbformat_minor": 5
}
